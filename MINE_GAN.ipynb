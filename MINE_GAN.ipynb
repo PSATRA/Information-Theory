{
 "cells": [
  {
   "metadata": {},
   "cell_type": "markdown",
   "source": "# MINE implemented in GAN",
   "id": "43beb81622e46081"
  },
  {
   "metadata": {},
   "cell_type": "markdown",
   "source": "## Import libraries",
   "id": "1a4845a0dffe5d1d"
  },
  {
   "metadata": {
    "ExecuteTime": {
     "end_time": "2024-12-30T10:59:25.600066Z",
     "start_time": "2024-12-30T10:59:25.598997Z"
    }
   },
   "cell_type": "code",
   "source": [
    "import numpy as np\n",
    "import matplotlib.pyplot as plt\n",
    "import random\n",
    "import torch\n",
    "import torch.nn as nn\n",
    "import torch.autograd as autograd"
   ],
   "id": "dccd6f2a3ef49b9e",
   "outputs": [],
   "execution_count": null
  },
  {
   "metadata": {},
   "cell_type": "markdown",
   "source": "## Set random seed",
   "id": "896520155b0fc62e"
  },
  {
   "metadata": {
    "ExecuteTime": {
     "end_time": "2024-12-30T10:59:25.604229Z",
     "start_time": "2024-12-30T10:59:25.603092Z"
    }
   },
   "cell_type": "code",
   "source": [
    "def set_rand_seed(seed):\n",
    "    random.seed(seed)\n",
    "    np.random.seed(seed)\n",
    "    torch.manual_seed(seed)\n",
    "    torch.cuda.manual_seed_all(seed)\n",
    "    torch.backends.cudnn.deterministic = True\n",
    "    torch.backends.cudnn.benchmark = False\n",
    "\n",
    "set_rand_seed(37)"
   ],
   "id": "2915402d81b0eeb8",
   "outputs": [],
   "execution_count": null
  },
  {
   "metadata": {},
   "cell_type": "markdown",
   "source": "",
   "id": "9226465b0ef1a7cb"
  },
  {
   "metadata": {
    "ExecuteTime": {
     "end_time": "2024-12-30T10:59:25.633275Z",
     "start_time": "2024-12-30T10:59:25.632014Z"
    }
   },
   "cell_type": "code",
   "source": "",
   "id": "543b83bdd01b89e2",
   "outputs": [],
   "execution_count": null
  },
  {
   "metadata": {},
   "cell_type": "markdown",
   "source": "",
   "id": "cd516ee51724a4e3"
  },
  {
   "metadata": {
    "ExecuteTime": {
     "end_time": "2024-12-30T10:59:25.637508Z",
     "start_time": "2024-12-30T10:59:25.636451Z"
    }
   },
   "cell_type": "code",
   "source": "",
   "id": "27fc07c488395c65",
   "outputs": [],
   "execution_count": null
  },
  {
   "metadata": {},
   "cell_type": "markdown",
   "source": "",
   "id": "59ed85681e49f8b3"
  },
  {
   "metadata": {
    "ExecuteTime": {
     "end_time": "2024-12-30T10:59:25.648678Z",
     "start_time": "2024-12-30T10:59:25.647477Z"
    }
   },
   "cell_type": "code",
   "source": "",
   "id": "ecea6e89e66e8ba2",
   "outputs": [],
   "execution_count": null
  },
  {
   "metadata": {},
   "cell_type": "markdown",
   "source": "",
   "id": "fe26006a7c775a56"
  },
  {
   "metadata": {
    "ExecuteTime": {
     "end_time": "2024-12-30T10:59:25.661138Z",
     "start_time": "2024-12-30T10:59:25.659921Z"
    }
   },
   "cell_type": "code",
   "source": "",
   "id": "e54f161939e2d206",
   "outputs": [],
   "execution_count": null
  },
  {
   "metadata": {},
   "cell_type": "markdown",
   "source": "",
   "id": "7970f4068bd3e2a4"
  },
  {
   "metadata": {
    "ExecuteTime": {
     "end_time": "2024-12-30T10:59:25.669453Z",
     "start_time": "2024-12-30T10:59:25.668221Z"
    }
   },
   "cell_type": "code",
   "source": "",
   "id": "efb6eb68d39adc5f",
   "outputs": [],
   "execution_count": null
  },
  {
   "metadata": {},
   "cell_type": "markdown",
   "source": "",
   "id": "c257339dc7cca0f7"
  },
  {
   "metadata": {
    "ExecuteTime": {
     "end_time": "2024-12-30T10:59:25.676789Z",
     "start_time": "2024-12-30T10:59:25.675705Z"
    }
   },
   "cell_type": "code",
   "source": "",
   "id": "8e32fbb2312e05df",
   "outputs": [],
   "execution_count": null
  }
 ],
 "metadata": {
  "kernelspec": {
   "display_name": "Python 3",
   "language": "python",
   "name": "python3"
  },
  "language_info": {
   "codemirror_mode": {
    "name": "ipython",
    "version": 2
   },
   "file_extension": ".py",
   "mimetype": "text/x-python",
   "name": "python",
   "nbconvert_exporter": "python",
   "pygments_lexer": "ipython2",
   "version": "2.7.6"
  }
 },
 "nbformat": 4,
 "nbformat_minor": 5
}
