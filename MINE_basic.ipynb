{
 "cells": [
  {
   "metadata": {},
   "cell_type": "markdown",
   "source": "",
   "id": "6ef2e2621ab96203"
  },
  {
   "metadata": {
    "ExecuteTime": {
     "end_time": "2024-12-30T07:50:35.446928Z",
     "start_time": "2024-12-30T07:50:35.445519Z"
    }
   },
   "cell_type": "code",
   "source": "",
   "id": "62753c75d02287b4",
   "outputs": [],
   "execution_count": null
  },
  {
   "metadata": {},
   "cell_type": "markdown",
   "source": "",
   "id": "9468305380f4aa20"
  },
  {
   "metadata": {
    "ExecuteTime": {
     "end_time": "2024-12-30T07:50:35.456205Z",
     "start_time": "2024-12-30T07:50:35.454811Z"
    }
   },
   "cell_type": "code",
   "source": "",
   "id": "50ed79231146101d",
   "outputs": [],
   "execution_count": null
  },
  {
   "metadata": {},
   "cell_type": "markdown",
   "source": "",
   "id": "95fc3e7178a02458"
  },
  {
   "metadata": {
    "ExecuteTime": {
     "end_time": "2024-12-30T07:50:35.471586Z",
     "start_time": "2024-12-30T07:50:35.470287Z"
    }
   },
   "cell_type": "code",
   "source": "",
   "id": "25c221c75e0677a0",
   "outputs": [],
   "execution_count": null
  },
  {
   "metadata": {},
   "cell_type": "markdown",
   "source": "",
   "id": "cb107f5261bf6fff"
  },
  {
   "metadata": {
    "ExecuteTime": {
     "end_time": "2024-12-30T07:50:35.480811Z",
     "start_time": "2024-12-30T07:50:35.479522Z"
    }
   },
   "cell_type": "code",
   "source": "",
   "id": "fca64e0a9da8cbb3",
   "outputs": [],
   "execution_count": null
  },
  {
   "metadata": {},
   "cell_type": "markdown",
   "source": "",
   "id": "177177d6bd4e5027"
  },
  {
   "metadata": {
    "ExecuteTime": {
     "end_time": "2024-12-30T07:50:35.495182Z",
     "start_time": "2024-12-30T07:50:35.494011Z"
    }
   },
   "cell_type": "code",
   "source": "",
   "id": "c2e963c93ae8cff6",
   "outputs": [],
   "execution_count": null
  },
  {
   "metadata": {},
   "cell_type": "markdown",
   "source": "",
   "id": "30e25969ea9520ac"
  },
  {
   "metadata": {
    "ExecuteTime": {
     "end_time": "2024-12-30T07:50:35.510256Z",
     "start_time": "2024-12-30T07:50:35.508994Z"
    }
   },
   "cell_type": "code",
   "source": "",
   "id": "4cbed8c9e3faf8d0",
   "outputs": [],
   "execution_count": null
  },
  {
   "metadata": {},
   "cell_type": "markdown",
   "source": "",
   "id": "4c1fffd792961f50"
  },
  {
   "metadata": {},
   "cell_type": "code",
   "outputs": [],
   "execution_count": null,
   "source": "",
   "id": "75731b8a3143bfe7"
  }
 ],
 "metadata": {
  "kernelspec": {
   "display_name": "Python 3",
   "language": "python",
   "name": "python3"
  },
  "language_info": {
   "codemirror_mode": {
    "name": "ipython",
    "version": 2
   },
   "file_extension": ".py",
   "mimetype": "text/x-python",
   "name": "python",
   "nbconvert_exporter": "python",
   "pygments_lexer": "ipython2",
   "version": "2.7.6"
  }
 },
 "nbformat": 4,
 "nbformat_minor": 5
}
